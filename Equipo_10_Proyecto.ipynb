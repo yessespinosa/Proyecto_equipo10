{
  "nbformat": 4,
  "nbformat_minor": 0,
  "metadata": {
    "colab": {
      "name": "Equipo 10 - Proyecto.ipynb",
      "provenance": []
    },
    "kernelspec": {
      "name": "python3",
      "display_name": "Python 3"
    },
    "language_info": {
      "name": "python"
    }
  },
  "cells": [
    {
      "cell_type": "markdown",
      "metadata": {
        "id": "kgPFVBC62bP2"
      },
      "source": [
        "# Proyecto \n",
        "## Pesos por dólar\n",
        "Equipo 10 - Bedu"
      ]
    },
    {
      "cell_type": "markdown",
      "metadata": {
        "id": "gcmRTsSp2oI6"
      },
      "source": [
        ""
      ]
    },
    {
      "cell_type": "code",
      "metadata": {
        "id": "xH0xImsCTl-B"
      },
      "source": [
        "# Importamos librerías \n",
        "\n",
        "#import MLUtilities as utils\n",
        "\n",
        "import pandas as pd\n",
        "import numpy as np\n",
        "from matplotlib import pyplot as plt\n",
        "from sklearn.datasets.samples_generator import make_blobs\n",
        "from sklearn.model_selection import train_test_split\n",
        "from sklearn.model_selection import KFold\n",
        "from sklearn.linear_model import LinearRegression\n",
        "import os \n",
        "import seaborn as sns \n",
        "import mpl_toolkits"
      ],
      "execution_count": 14,
      "outputs": []
    },
    {
      "cell_type": "code",
      "metadata": {
        "colab": {
          "base_uri": "https://localhost:8080/",
          "height": 202
        },
        "id": "lPeIp-BHTuR7",
        "outputId": "89f7fe51-e8e8-4d26-80f4-e5a0e71f3795"
      },
      "source": [
        "# Cargamos conjunto de datos y exploramos sus características \n",
        "data = pd.read_csv(\"/content/BDM-SF60653.csv\")\n",
        "data.head()"
      ],
      "execution_count": 69,
      "outputs": [
        {
          "output_type": "execute_result",
          "data": {
            "text/html": [
              "<div>\n",
              "<style scoped>\n",
              "    .dataframe tbody tr th:only-of-type {\n",
              "        vertical-align: middle;\n",
              "    }\n",
              "\n",
              "    .dataframe tbody tr th {\n",
              "        vertical-align: top;\n",
              "    }\n",
              "\n",
              "    .dataframe thead th {\n",
              "        text-align: right;\n",
              "    }\n",
              "</style>\n",
              "<table border=\"1\" class=\"dataframe\">\n",
              "  <thead>\n",
              "    <tr style=\"text-align: right;\">\n",
              "      <th></th>\n",
              "      <th>Date</th>\n",
              "      <th>Value</th>\n",
              "    </tr>\n",
              "  </thead>\n",
              "  <tbody>\n",
              "    <tr>\n",
              "      <th>0</th>\n",
              "      <td>2021-05-11</td>\n",
              "      <td>19.9223</td>\n",
              "    </tr>\n",
              "    <tr>\n",
              "      <th>1</th>\n",
              "      <td>2021-05-10</td>\n",
              "      <td>20.1838</td>\n",
              "    </tr>\n",
              "    <tr>\n",
              "      <th>2</th>\n",
              "      <td>2021-05-09</td>\n",
              "      <td>20.1838</td>\n",
              "    </tr>\n",
              "    <tr>\n",
              "      <th>3</th>\n",
              "      <td>2021-05-08</td>\n",
              "      <td>20.1838</td>\n",
              "    </tr>\n",
              "    <tr>\n",
              "      <th>4</th>\n",
              "      <td>2021-05-07</td>\n",
              "      <td>20.2077</td>\n",
              "    </tr>\n",
              "  </tbody>\n",
              "</table>\n",
              "</div>"
            ],
            "text/plain": [
              "         Date    Value\n",
              "0  2021-05-11  19.9223\n",
              "1  2021-05-10  20.1838\n",
              "2  2021-05-09  20.1838\n",
              "3  2021-05-08  20.1838\n",
              "4  2021-05-07  20.2077"
            ]
          },
          "metadata": {},
          "execution_count": 69
        }
      ]
    },
    {
      "cell_type": "code",
      "metadata": {
        "colab": {
          "base_uri": "https://localhost:8080/"
        },
        "id": "S7bvMP_GT2eR",
        "outputId": "81d618a9-50c0-4949-f1b1-436f8e6f74e6"
      },
      "source": [
        "data.info()"
      ],
      "execution_count": 54,
      "outputs": [
        {
          "output_type": "stream",
          "name": "stdout",
          "text": [
            "<class 'pandas.core.frame.DataFrame'>\n",
            "Index: 10741 entries, 2021-05-11 to 1991-11-14\n",
            "Data columns (total 1 columns):\n",
            " #   Column  Non-Null Count  Dtype  \n",
            "---  ------  --------------  -----  \n",
            " 0   Value   10741 non-null  float64\n",
            "dtypes: float64(1)\n",
            "memory usage: 167.8+ KB\n"
          ]
        }
      ]
    },
    {
      "cell_type": "code",
      "metadata": {
        "colab": {
          "base_uri": "https://localhost:8080/"
        },
        "id": "309ctOZ7MhFK",
        "outputId": "33bf1937-799b-4110-85c5-d5c5494ba876"
      },
      "source": [
        "X = data.iloc[:,0:].values\n",
        "#x1 = X[:,0]\n",
        "#y1 = X[:,1]\n",
        "#plt.scatter(x1, y1)\n",
        "#plt.show()\n",
        "X"
      ],
      "execution_count": 63,
      "outputs": [
        {
          "output_type": "execute_result",
          "data": {
            "text/plain": [
              "array([[19.9223],\n",
              "       [20.1838],\n",
              "       [20.1838],\n",
              "       ...,\n",
              "       [ 3.0718],\n",
              "       [ 3.0712],\n",
              "       [ 3.0735]])"
            ]
          },
          "metadata": {},
          "execution_count": 63
        }
      ]
    },
    {
      "cell_type": "code",
      "metadata": {
        "id": "YeeTbueABvx4"
      },
      "source": [
        "# Calcular el número de clústers \n",
        "y = data['Value']\n",
        "x = data.drop(['Date'], axis=1)"
      ],
      "execution_count": 49,
      "outputs": []
    },
    {
      "cell_type": "code",
      "metadata": {
        "id": "MgfhUJqVEsTV"
      },
      "source": [
        "def particionar(entradas, salidas, porcentaje_entrenamiento, porcentaje_validacion, porcentaje_prueba):\n",
        "    temp_size = porcentaje_validacion + porcentaje_prueba\n",
        "    x_train, x_temp, y_train, y_temp = train_test_split(entradas, salidas, test_size =temp_size)\n",
        "    if(porcentaje_validacion > 0):\n",
        "        test_size = porcentaje_prueba/temp_size\n",
        "        x_val, x_test, y_val, y_test = train_test_split(x_temp, y_temp, test_size = test_size)\n",
        "    else:\n",
        "        return [x_train, None, x_temp, y_train, None, y_temp]\n",
        "    return [x_train, x_val, x_test, y_train, y_val, y_test]"
      ],
      "execution_count": 29,
      "outputs": []
    },
    {
      "cell_type": "code",
      "metadata": {
        "colab": {
          "base_uri": "https://localhost:8080/"
        },
        "id": "lnjCWUVPEwKe",
        "outputId": "b4189d5d-cf58-498f-a6e5-23f29de16c5a"
      },
      "source": [
        "# Particionamos  en 60% entrenamiento, 10% validacion, 30% prueba\n",
        "[x_train, x_val, x_test, y_train, y_val, y_test] = particionar(x,y,0.60, 0.10, 0.30)\n",
        "print(x_train.shape)\n",
        "print(x_val.shape)\n",
        "print(x_test.shape)"
      ],
      "execution_count": 41,
      "outputs": [
        {
          "output_type": "stream",
          "name": "stdout",
          "text": [
            "(6444, 1)\n",
            "(1074, 1)\n",
            "(3223, 1)\n"
          ]
        }
      ]
    },
    {
      "cell_type": "code",
      "metadata": {
        "colab": {
          "base_uri": "https://localhost:8080/",
          "height": 293
        },
        "id": "6i-15pWqFSwP",
        "outputId": "3a886186-1485-4654-f3cc-5ba864df885d"
      },
      "source": [
        "data.describe()"
      ],
      "execution_count": 22,
      "outputs": [
        {
          "output_type": "execute_result",
          "data": {
            "text/html": [
              "<div>\n",
              "<style scoped>\n",
              "    .dataframe tbody tr th:only-of-type {\n",
              "        vertical-align: middle;\n",
              "    }\n",
              "\n",
              "    .dataframe tbody tr th {\n",
              "        vertical-align: top;\n",
              "    }\n",
              "\n",
              "    .dataframe thead th {\n",
              "        text-align: right;\n",
              "    }\n",
              "</style>\n",
              "<table border=\"1\" class=\"dataframe\">\n",
              "  <thead>\n",
              "    <tr style=\"text-align: right;\">\n",
              "      <th></th>\n",
              "      <th>Value</th>\n",
              "    </tr>\n",
              "  </thead>\n",
              "  <tbody>\n",
              "    <tr>\n",
              "      <th>count</th>\n",
              "      <td>10741.000000</td>\n",
              "    </tr>\n",
              "    <tr>\n",
              "      <th>mean</th>\n",
              "      <td>11.625882</td>\n",
              "    </tr>\n",
              "    <tr>\n",
              "      <th>std</th>\n",
              "      <td>4.825541</td>\n",
              "    </tr>\n",
              "    <tr>\n",
              "      <th>min</th>\n",
              "      <td>3.060600</td>\n",
              "    </tr>\n",
              "    <tr>\n",
              "      <th>25%</th>\n",
              "      <td>9.181200</td>\n",
              "    </tr>\n",
              "    <tr>\n",
              "      <th>50%</th>\n",
              "      <td>10.982000</td>\n",
              "    </tr>\n",
              "    <tr>\n",
              "      <th>75%</th>\n",
              "      <td>13.454900</td>\n",
              "    </tr>\n",
              "    <tr>\n",
              "      <th>max</th>\n",
              "      <td>25.118500</td>\n",
              "    </tr>\n",
              "  </tbody>\n",
              "</table>\n",
              "</div>"
            ],
            "text/plain": [
              "              Value\n",
              "count  10741.000000\n",
              "mean      11.625882\n",
              "std        4.825541\n",
              "min        3.060600\n",
              "25%        9.181200\n",
              "50%       10.982000\n",
              "75%       13.454900\n",
              "max       25.118500"
            ]
          },
          "metadata": {},
          "execution_count": 22
        }
      ]
    },
    {
      "cell_type": "code",
      "metadata": {
        "colab": {
          "base_uri": "https://localhost:8080/"
        },
        "id": "v_Px2iRcFzvv",
        "outputId": "456032c8-3b9a-430b-faa8-762d32b2e92f"
      },
      "source": [
        "print(data.columns)"
      ],
      "execution_count": 24,
      "outputs": [
        {
          "output_type": "stream",
          "name": "stdout",
          "text": [
            "Index(['Date', 'Value'], dtype='object')\n"
          ]
        }
      ]
    },
    {
      "cell_type": "code",
      "metadata": {
        "id": "K7OyM0HwGSb9"
      },
      "source": [
        "# Hacemos fit en la regresion\n",
        "# regressor = LinearRegression()\n",
        "# regressor.fit(x_train, y_train)\n",
        "# Veamos la R^2\n",
        "# regressor.score(x_test,y_test)"
      ],
      "execution_count": 81,
      "outputs": []
    },
    {
      "cell_type": "code",
      "metadata": {
        "colab": {
          "base_uri": "https://localhost:8080/",
          "height": 282
        },
        "id": "vGSWjtCENd5d",
        "outputId": "ed495fd5-4e50-4d52-9929-682a3e8b9f44"
      },
      "source": [
        "# Método del codo \n",
        "from sklearn.cluster import KMeans\n",
        "var = []\n",
        "for i in range(1,10): \n",
        "  kmeans = KMeans(n_clusters = i, init = \"k-means++\", random_state=15)\n",
        "  kmeans.fit(X)\n",
        "  var.append(kmeans.inertia_)\n",
        "\n",
        "plt.plot(range(1,10), var)"
      ],
      "execution_count": 64,
      "outputs": [
        {
          "output_type": "execute_result",
          "data": {
            "text/plain": [
              "[<matplotlib.lines.Line2D at 0x7fc8cd380c90>]"
            ]
          },
          "metadata": {},
          "execution_count": 64
        },
        {
          "output_type": "display_data",
          "data": {
            "image/png": "[encoded data removed]",
            "text/plain": [
              "<Figure size 432x288 with 1 Axes>"
            ]
          },
          "metadata": {
            "needs_background": "light"
          }
        }
      ]
    },
    {
      "cell_type": "code",
      "metadata": {
        "colab": {
          "base_uri": "https://localhost:8080/",
          "height": 661
        },
        "id": "Yq9hRRUEN1oK",
        "outputId": "09be3b5a-9258-4115-d7d6-5b3470346118"
      },
      "source": [
        "# Datos agrupados en clústers\n",
        "#data = data.rename(columns={'Total Ventas': 'Total_Ventas'})\n",
        "\n",
        "kmeans = KMeans(n_clusters=4, init=\"k-means++\")\n",
        "kmeans.fit(X)\n",
        "print(kmeans.cluster_centers_)\n",
        "\n",
        "clusters = kmeans.fit_predict(X)\n",
        "data[\"label\"] = clusters\n",
        "\n",
        "plt.scatter(data.Date[data.label == 0], data.Value[data.label == 0], color = \"yellow\")\n",
        "plt.scatter(data.Date[data.label == 1], data.Value[data.label == 1], color = \"orange\")\n",
        "plt.scatter(data.Date[data.label == 2], data.Value[data.label == 2], color = \"red\")\n",
        "plt.scatter(data.Date[data.label == 3], data.Value[data.label == 3], color = \"blue\")\n",
        "#plt.scatter(kmeans.cluster_centers_[:,0],kmeans.cluster_centers_[:,1], color = \"black\")\n",
        "plt.show()"
      ],
      "execution_count": 80,
      "outputs": [
        {
          "output_type": "stream",
          "name": "stdout",
          "text": [
            "[[13.0380573 ]\n",
            " [ 3.73719263]\n",
            " [19.3534304 ]\n",
            " [ 9.71020656]]\n"
          ]
        },
        {
          "output_type": "display_data",
          "data": {
            "image/png": "[encoded data removed]",
            "text/plain": [
              "<Figure size 720x720 with 1 Axes>"
            ]
          },
          "metadata": {}
        }
      ]
    },
    {
      "cell_type": "code",
      "metadata": {
        "colab": {
          "base_uri": "https://localhost:8080/",
          "height": 610
        },
        "id": "4emYXqxcQCCN",
        "outputId": "09e3e059-0f3c-4beb-86d3-ca882b704d37"
      },
      "source": [
        "# Histograma tipo facet.grid para todas las variables \n",
        "sns.set(style=\"white\", font_scale=1, rc={\"figure.figsize\":(10,10)})\n",
        "ax = data.hist(bins=20, color=\"gray\")"
      ],
      "execution_count": 79,
      "outputs": [
        {
          "output_type": "display_data",
          "data": {
            "image/png": "[encoded data removed]",
            "text/plain": [
              "<Figure size 720x720 with 2 Axes>"
            ]
          },
          "metadata": {}
        }
      ]
    }
  ]
}